{
 "cells": [
  {
   "cell_type": "markdown",
   "metadata": {},
   "source": [
    "# Cette étude a pour but la reconnaissance des chiffres manuscrits des chèques bancaires"
   ]
  },
  {
   "cell_type": "markdown",
   "metadata": {},
   "source": [
    "*Importation des packages utiles"
   ]
  },
  {
   "cell_type": "code",
   "execution_count": 1,
   "metadata": {},
   "outputs": [],
   "source": [
    "from sklearn.datasets import fetch_openml\n",
    "import numpy as np\n",
    "import matplotlib.pyplot as pl\n",
    "\n",
    "from sklearn.model_selection import train_test_split as tts\n",
    "from sklearn.metrics import accuracy_score\n",
    "from sklearn.model_selection import GridSearchCV"
   ]
  },
  {
   "cell_type": "code",
   "execution_count": 2,
   "metadata": {},
   "outputs": [],
   "source": [
    "from sklearn.datasets import fetch_openml\n",
    "mnist = fetch_openml('mnist_784', version=1)"
   ]
  },
  {
   "cell_type": "markdown",
   "metadata": {},
   "source": [
    "*Vu la taille du data je choisis un échantillon pour soulager mon PC"
   ]
  },
  {
   "cell_type": "code",
   "execution_count": 94,
   "metadata": {},
   "outputs": [],
   "source": [
    "sample=np.random.randint(mnist.data.shape[0],size=int(mnist.data.shape[0]*0.08))"
   ]
  },
  {
   "cell_type": "code",
   "execution_count": 4,
   "metadata": {},
   "outputs": [],
   "source": [
    "data=mnist.data[sample]\n",
    "target=mnist.target[sample]\n",
    "x_train,x_test,y_train,y_test=tts(data,target,train_size=0.8)"
   ]
  },
  {
   "cell_type": "code",
   "execution_count": 95,
   "metadata": {},
   "outputs": [],
   "source": [
    "from sklearn.neighbors import KNeighborsClassifier\n",
    "from sklearn.svm import SVC\n",
    "from sklearn.linear_model import LogisticRegression\n",
    "from sklearn.ensemble import RandomForestClassifier\n",
    "from sklearn.neural_network import MLPClassifier\n",
    "from sklearn.discriminant_analysis import LinearDiscriminantAnalysis,QuadraticDiscriminantAnalysis\n",
    "from xgboost import XGBClassifier\n",
    "\n",
    "Classifiers=[KNeighborsClassifier,SVC,LogisticRegression,RandomForestClassifier,RandomForestClassifier,MLPClassifier,MLPClassifier,\n",
    "             LinearDiscriminantAnalysis,QuadraticDiscriminantAnalysis,XGBClassifier]"
   ]
  },
  {
   "cell_type": "code",
   "execution_count": 22,
   "metadata": {},
   "outputs": [
    {
     "name": "stdout",
     "output_type": "stream",
     "text": [
      "***Result***\n",
      "========================================\n",
      "KNeighborsClassifier \n",
      " Accuracy:92.7679%\n",
      "========================================\n",
      "***Result***\n",
      "========================================\n",
      "SVC \n",
      " Accuracy:95.4464%\n",
      "========================================\n"
     ]
    },
    {
     "name": "stderr",
     "output_type": "stream",
     "text": [
      "/home/moussa/anaconda3/lib/python3.7/site-packages/sklearn/linear_model/_logistic.py:940: ConvergenceWarning: lbfgs failed to converge (status=1):\n",
      "STOP: TOTAL NO. of ITERATIONS REACHED LIMIT.\n",
      "\n",
      "Increase the number of iterations (max_iter) or scale the data as shown in:\n",
      "    https://scikit-learn.org/stable/modules/preprocessing.html\n",
      "Please also refer to the documentation for alternative solver options:\n",
      "    https://scikit-learn.org/stable/modules/linear_model.html#logistic-regression\n",
      "  extra_warning_msg=_LOGISTIC_SOLVER_CONVERGENCE_MSG)\n"
     ]
    },
    {
     "name": "stdout",
     "output_type": "stream",
     "text": [
      "***Result***\n",
      "========================================\n",
      "LogisticRegression \n",
      " Accuracy:87.7679%\n",
      "========================================\n",
      "***Result***\n",
      "========================================\n",
      "RandomForestClassifier \n",
      " Accuracy:94.2857%\n",
      "========================================\n",
      "***Result***\n",
      "========================================\n",
      "RandomForestClassifier \n",
      " Accuracy:95.0893%\n",
      "========================================\n",
      "***Result***\n",
      "========================================\n",
      "MLPClassifier \n",
      " Accuracy:88.8393%\n",
      "========================================\n",
      "***Result***\n",
      "========================================\n",
      "MLPClassifier \n",
      " Accuracy:88.7500%\n",
      "========================================\n",
      "***Result***\n",
      "========================================\n",
      "LinearDiscriminantAnalysis \n",
      " Accuracy:84.1964%\n",
      "========================================\n"
     ]
    },
    {
     "name": "stderr",
     "output_type": "stream",
     "text": [
      "/home/moussa/anaconda3/lib/python3.7/site-packages/sklearn/discriminant_analysis.py:691: UserWarning: Variables are collinear\n",
      "  warnings.warn(\"Variables are collinear\")\n"
     ]
    },
    {
     "name": "stdout",
     "output_type": "stream",
     "text": [
      "***Result***\n",
      "========================================\n",
      "QuadraticDiscriminantAnalysis \n",
      " Accuracy:59.8214%\n",
      "========================================\n",
      "***Result***\n",
      "========================================\n",
      "XGBClassifier \n",
      " Accuracy:94.8214%\n",
      "========================================\n"
     ]
    }
   ],
   "source": [
    "import pandas as pd\n",
    "\n",
    "col=[\"Name\",\"Accuracy\"]\n",
    "df=pd.DataFrame(columns=col)\n",
    "for classifier in Classifiers:\n",
    "    Name=classifier.__name__\n",
    "    model=classifier().fit(x_train,y_train)\n",
    "    y_pred=model.predict(x_test)\n",
    "    acc=accuracy_score(y_test,y_pred)\n",
    "    print(\"***Result***\")\n",
    "    print(\"=\"*40)\n",
    "    print(\"{} \\n Accuracy:{:.4%}\".format(Name,acc))\n",
    "    print(\"=\"*40)\n",
    "    df1=pd.DataFrame([[Name,acc]],columns=col)\n",
    "    df=df.append(df1)"
   ]
  },
  {
   "cell_type": "code",
   "execution_count": 34,
   "metadata": {},
   "outputs": [
    {
     "data": {
      "text/plain": [
       "0    0.927679\n",
       "0    0.954464\n",
       "0    0.877679\n",
       "0    0.942857\n",
       "0    0.950893\n",
       "0    0.888393\n",
       "0    0.887500\n",
       "0    0.841964\n",
       "0    0.598214\n",
       "0    0.948214\n",
       "Name: Accuracy, dtype: float64"
      ]
     },
     "execution_count": 34,
     "metadata": {},
     "output_type": "execute_result"
    }
   ],
   "source": [
    "df.Accuracy"
   ]
  },
  {
   "cell_type": "code",
   "execution_count": 26,
   "metadata": {},
   "outputs": [],
   "source": [
    "import seaborn as sns"
   ]
  },
  {
   "cell_type": "code",
   "execution_count": 28,
   "metadata": {},
   "outputs": [
    {
     "data": {
      "image/png": "[encoded data removed]",
      "text/plain": [
       "<Figure size 432x288 with 1 Axes>"
      ]
     },
     "metadata": {
      "needs_background": "light"
     },
     "output_type": "display_data"
    }
   ],
   "source": [
    "sns.barplot(x=\"Accuracy\",y=\"Name\",data=df)\n",
    "pl.show()"
   ]
  },
  {
   "cell_type": "code",
   "execution_count": null,
   "metadata": {},
   "outputs": [],
   "source": [
    "#Optimal Classifier "
   ]
  },
  {
   "cell_type": "code",
   "execution_count": 54,
   "metadata": {},
   "outputs": [
    {
     "name": "stdout",
     "output_type": "stream",
     "text": [
      "Maximum de précision des classiers est :95.4464%\n"
     ]
    }
   ],
   "source": [
    "index=list(df.Accuracy).index(max(df.Accuracy))\n",
    "index\n",
    "print(\"Maximum de précision des classiers est :{:.4%}\".format(list(df.Accuracy)[index]))"
   ]
  },
  {
   "cell_type": "code",
   "execution_count": null,
   "metadata": {},
   "outputs": [],
   "source": [
    "clf_op=Classifiers[index]()\n",
    "parameters = {'kernel':('linear', 'rbf'), 'C':[1, 10]}\n",
    "clf_op_opti=GridSearchCV(clf_op,parameters)"
   ]
  },
  {
   "cell_type": "code",
   "execution_count": null,
   "metadata": {},
   "outputs": [],
   "source": [
    "clf_op_opti.fit(x_train,y_train)"
   ]
  },
  {
   "cell_type": "code",
   "execution_count": 50,
   "metadata": {},
   "outputs": [
    {
     "name": "stdout",
     "output_type": "stream",
     "text": [
      "Accuracy:95.8036% \n",
      " Meilleur hyperparamètre:{'C': 10, 'kernel': 'rbf'}\n"
     ]
    }
   ],
   "source": [
    "y_pred=clf_op_opti.predict(x_test)\n",
    "acc=accuracy_score(y_test,y_pred)\n",
    "print(\"Accuracy:{:.4%} \\n Meilleur hyperparamètre:{}\".format(acc,clf_op_opti.best_params_))"
   ]
  },
  {
   "cell_type": "code",
   "execution_count": 73,
   "metadata": {},
   "outputs": [],
   "source": [
    "\n",
    "images=x_test.reshape(-1,28,28)\n",
    "select=np.random.randint(images.shape[0],size=20)\n",
    "\n",
    "predicted=y_pred"
   ]
  },
  {
   "cell_type": "code",
   "execution_count": 74,
   "metadata": {},
   "outputs": [
    {
     "data": {
      "image/png": "[encoded data removed]",
      "text/plain": [
       "<Figure size 432x288 with 20 Axes>"
      ]
     },
     "metadata": {
      "needs_background": "light"
     },
     "output_type": "display_data"
    },
    {
     "name": "stdout",
     "output_type": "stream",
     "text": [
      "L'erreur de prediction: 4.1964%\n"
     ]
    }
   ],
   "source": [
    "fig,ax=pl.subplots(4,5)\n",
    "for index,values in enumerate(select):\n",
    "    pl.subplot(4,5,index+1)\n",
    "    pl.imshow(images[values])\n",
    "    pl.title(predicted[values])\n",
    "    pl.axis('off')\n",
    "pl.show()\n",
    "print(\"L'erreur de prediction: {:.4%}\".format(1-clf_op_opti.score(x_test,y_test)))"
   ]
  },
  {
   "cell_type": "code",
   "execution_count": 87,
   "metadata": {},
   "outputs": [],
   "source": [
    "misclass=(y_test!=predicted)\n"
   ]
  },
  {
   "cell_type": "markdown",
   "metadata": {},
   "source": [
    "Projection des valeurs males predictes"
   ]
  },
  {
   "cell_type": "code",
   "execution_count": 96,
   "metadata": {},
   "outputs": [],
   "source": [
    "image_mis=images[misclass,:,:]\n",
    "y_mis=predicted[misclass]\n",
    "mis_images=image.reshape(-1,28,28)\n",
    "select=np.random.randint(mis_images.shape[0],size=15)"
   ]
  },
  {
   "cell_type": "code",
   "execution_count": 97,
   "metadata": {},
   "outputs": [
    {
     "data": {
      "image/png": "[encoded data removed]",
      "text/plain": [
       "<Figure size 432x288 with 15 Axes>"
      ]
     },
     "metadata": {
      "needs_background": "light"
     },
     "output_type": "display_data"
    }
   ],
   "source": [
    "fig,ax=pl.subplots(3,5)\n",
    "for index,values in enumerate(select):\n",
    "    pl.subplot(4,5,index+1)\n",
    "    pl.imshow(mis_images[values])\n",
    "    pl.title(y_mis[values])\n",
    "    pl.axis('off')\n",
    "pl.show()"
   ]
  },
  {
   "cell_type": "code",
   "execution_count": 99,
   "metadata": {},
   "outputs": [
    {
     "name": "stdout",
     "output_type": "stream",
     "text": [
      "Collecting https://github.com/SIDIBEMoussa/code/blob/main/Projet%20de%20Classification.py\n",
      "\u001b[33m  WARNING: Retrying (Retry(total=4, connect=None, read=None, redirect=None, status=None)) after connection broken by 'NewConnectionError(\"<pip._vendor.urllib3.connection.VerifiedHTTPSConnection object at 0x7fd7e6449f50>: Failed to establish a new connection: [Errno 113] Aucun chemin d'accès pour atteindre l'hôte cible\")': /SIDIBEMoussa/code/blob/main/Projet%20de%20Classification.py\u001b[0m\n",
      "  Downloading https://github.com/SIDIBEMoussa/code/blob/main/Projet%20de%20Classification.py\n",
      "\u001b[K     | 128 kB 20 kB/ss\n",
      "\u001b[31m  ERROR: Cannot unpack file /tmp/pip-unpack-d_lc7e84/Projet de Classification.py (downloaded from /tmp/pip-req-build-73mtly9d, content-type: text/html; charset=utf-8); cannot detect archive format\u001b[0m\n",
      "\u001b[31mERROR: Cannot determine archive format of /tmp/pip-req-build-73mtly9d\u001b[0m\n",
      "\u001b[?25hNote: you may need to restart the kernel to use updated packages.\n"
     ]
    }
   ],
   "source": [
    "pip install \"https://github.com/SIDIBEMoussa/code/blob/main/Projet%20de%20Classification.py\""
   ]
  },
  {
   "cell_type": "code",
   "execution_count": null,
   "metadata": {},
   "outputs": [],
   "source": []
  }
 ],
 "metadata": {
  "kernelspec": {
   "display_name": "Python 3",
   "language": "python",
   "name": "python3"
  },
  "language_info": {
   "codemirror_mode": {
    "name": "ipython",
    "version": 3
   },
   "file_extension": ".py",
   "mimetype": "text/x-python",
   "name": "python",
   "nbconvert_exporter": "python",
   "pygments_lexer": "ipython3",
   "version": "3.7.6"
  }
 },
 "nbformat": 4,
 "nbformat_minor": 4
}
